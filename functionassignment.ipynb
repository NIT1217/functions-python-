{
  "nbformat": 4,
  "nbformat_minor": 0,
  "metadata": {
    "colab": {
      "provenance": []
    },
    "kernelspec": {
      "name": "python3",
      "display_name": "Python 3"
    },
    "language_info": {
      "name": "python"
    }
  },
  "cells": [
    {
      "cell_type": "code",
      "execution_count": null,
      "metadata": {
        "id": "TjgtgLfNjpaS"
      },
      "outputs": [],
      "source": []
    },
    {
      "cell_type": "markdown",
      "source": [
        "1. What is the difference between a function and a method in Python?\n",
        "\n",
        "methods are functions related with the class , and instances, whereas the function are related with operations and variables functions are called by its name and method are call by the name of the object/instance"
      ],
      "metadata": {
        "id": "PG-Ikgj2k0Jf"
      }
    },
    {
      "cell_type": "markdown",
      "source": [
        "2. Explain the concept of function arguments and parameters in Python.\n",
        "\n",
        "functions are code block which minime our time as well as make the code more attractive\n",
        "\n",
        "arguments - these are function dependent variables and are local in scope\n",
        "\n",
        "parameter - these are those values which are passed for the arguments and are position dependent with arguments\n",
        "\n"
      ],
      "metadata": {
        "id": "G19z77rMk5dP"
      }
    },
    {
      "cell_type": "markdown",
      "source": [
        "3. What are the different ways to define and call a function in Python?\n",
        "\n",
        "ways to define a function is\n",
        "1. using def(normal function)\n",
        "2. function with the default argument\n",
        "3. function with arbitary argument  etc...\n",
        "\n",
        "ways to call afunction is:\n",
        "1. function name\n",
        "2. by relation with object\n",
        "\n"
      ],
      "metadata": {
        "id": "lyrWzV55luT6"
      }
    },
    {
      "cell_type": "markdown",
      "source": [
        "4. What is the purpose of the `return` statement in a Python function\n",
        "\n",
        "- the return statement is used to give particular output for the given code block in the function\n"
      ],
      "metadata": {
        "id": "6-s7YNXum5jZ"
      }
    },
    {
      "cell_type": "markdown",
      "source": [
        "5.  What are iterators in Python and how do they differ from iterables?\n",
        "\n",
        "iterables are all those data structure and objects which are capable of returning one at a time  e.g  list,tuple\n",
        "\n",
        "iterator are an object represent the staem of data which can be iterated\n",
        "\n",
        "\n"
      ],
      "metadata": {
        "id": "bH1ny7Csm5gy"
      }
    },
    {
      "cell_type": "markdown",
      "source": [
        "6.  Explain the concept of generators in Python and how they are defined\n",
        "generators are those functions which usse yield instead of return and insted of iter it used next\n",
        "it stores less memory as it  runs the code one by one\n",
        "\n",
        "\n",
        "\n"
      ],
      "metadata": {
        "id": "43tkIPDdkOI2"
      }
    },
    {
      "cell_type": "markdown",
      "source": [
        "7.  What are the advantages of using generators over regular functions?\n",
        "generators stores less momory and run code one by one whereas the rugular functions take entire  functions at a time and they stores more momory"
      ],
      "metadata": {
        "id": "Sr5Jy1eakuMD"
      }
    },
    {
      "cell_type": "markdown",
      "source": [
        "8.  What is a lambda function in Python and when is it typically used?\n",
        "lambda functions are ananomus functtion and called short hand function and its syntex is   \n",
        "        \n",
        "              y = lambda x,y:x if x>y else y\n",
        "              "
      ],
      "metadata": {
        "id": "Q5zZzNkQlCTN"
      }
    },
    {
      "cell_type": "markdown",
      "source": [
        "9.  Explain the purpose and usage of the `map()` function in Python.\n",
        "map functions are functions which takes iterables and  a function all together and it is mainly used in case of data structures like as list,tuple, set etc\n",
        "  \n",
        "\n",
        "  syntax\n",
        "  list(map(lambda x,y:x+y ,list1))\n",
        "  "
      ],
      "metadata": {
        "id": "Cic71BCcllNG"
      }
    },
    {
      "cell_type": "markdown",
      "source": [],
      "metadata": {
        "id": "zM5Z8zrqmN-f"
      }
    },
    {
      "cell_type": "markdown",
      "source": [],
      "metadata": {
        "id": "5pvo3GAGmOsk"
      }
    },
    {
      "cell_type": "markdown",
      "source": [
        "10. . What is the difference between `map()`, `reduce()`, and `filter()` functions in Python?\n",
        "\n",
        "\n",
        "map() are functions which are used in case of iterables to iterate each elements seperatly\n",
        "reduce() these are function which act on iterable and give a particlur reduce result and is a function of functools library\n",
        "\n",
        "filter() are those functions which are used to filtered result"
      ],
      "metadata": {
        "id": "zLpAlDVmmPDF"
      }
    },
    {
      "cell_type": "markdown",
      "source": [
        "11. list:[47,11,42,13];\n",
        "11. Using pen & Paper write the internal mechanism for sum operation using  reduce function on this given\n",
        "\n",
        "import functools as fn\n",
        "list1 = [47,11,42,13]\n",
        "fn.reduce(lambda x,y:x+y , list1)\n",
        "\n"
      ],
      "metadata": {
        "id": "xYa7vi1ynkTt"
      }
    },
    {
      "cell_type": "code",
      "source": [
        "import functools as fn\n",
        "list1 = [47,11,42,13]\n",
        "fn.reduce(lambda x,y:x+y , list1)"
      ],
      "metadata": {
        "colab": {
          "base_uri": "https://localhost:8080/"
        },
        "id": "pv0FXclboeu2",
        "outputId": "77021d49-d974-4228-a67c-e26dfbd4f378"
      },
      "execution_count": null,
      "outputs": [
        {
          "output_type": "execute_result",
          "data": {
            "text/plain": [
              "113"
            ]
          },
          "metadata": {},
          "execution_count": 1
        }
      ]
    },
    {
      "cell_type": "code",
      "source": [
        "#1. 1. Write a Python function that takes a list of numbers as input and returns the sum of all even numbers in list\n",
        "\n",
        "\n",
        "list1 = [2,3,4,5,6,8,9]\n",
        "even = list(filter(lambda x:x % 2==0 , list1))\n",
        "print(even)"
      ],
      "metadata": {
        "colab": {
          "base_uri": "https://localhost:8080/"
        },
        "id": "xm4HAyZ3xco6",
        "outputId": "91905161-f607-41cc-9f38-4c2c00d1f1c5"
      },
      "execution_count": null,
      "outputs": [
        {
          "output_type": "stream",
          "name": "stdout",
          "text": [
            "[2, 4, 6, 8]\n"
          ]
        }
      ]
    },
    {
      "cell_type": "code",
      "source": [
        "#2. Create a Python function that accepts a string and returns the reverse of that string.\n",
        "\n",
        "def required (x):\n",
        "  reverse_string =\"\"\n",
        "  for i in range(len(x)-1, -1, -1):\n",
        "    reverse_string = x[i]\n",
        "\n",
        "    return reverse_string\n",
        "\n",
        "  x = input(\"enter the string\")\n",
        "\n",
        "  print(required(x))\n",
        "\n"
      ],
      "metadata": {
        "id": "7ssUXBlFxcl4"
      },
      "execution_count": 3,
      "outputs": []
    },
    {
      "cell_type": "code",
      "source": [
        "#3.\n",
        "def square_list(lst):\n",
        "    squared_list = [i**2 for i in lst]\n",
        "    return squared_list\n",
        "\n",
        "list1 = list(map(int, input(\"Enter numbers separated by spaces: \").split(\",\")))\n",
        "\n",
        "print(\"Squared List:\", square_list(list1))\n"
      ],
      "metadata": {
        "id": "mPnlOuGaxcgQ",
        "colab": {
          "base_uri": "https://localhost:8080/"
        },
        "outputId": "2211fb3f-2cb3-4442-e852-63098806ebe1"
      },
      "execution_count": 14,
      "outputs": [
        {
          "output_type": "stream",
          "name": "stdout",
          "text": [
            "Enter numbers separated by spaces: 2/3/4\n",
            "Squared List: [4, 9, 16]\n"
          ]
        }
      ]
    },
    {
      "cell_type": "code",
      "source": [
        "#4. . Write a Python function that checks if a given number is prime or not from 1 to 200\n",
        "\n",
        "def prime_check(x):\n",
        "  if x==1:\n",
        "      print(\"number is not prime\")\n",
        "  for i in range(2,int(x**1/2) +1):\n",
        "\n",
        "   if x%i==0:\n",
        "      return \"number isnot prime\"\n",
        "   else:\n",
        "       return \"print the number is prime\"\n",
        "\n",
        "\n",
        "\n",
        "x= int(input(\"enter the number from 1 to 200 :\"))\n",
        "print(prime_check(x))\n",
        "\n",
        "\n",
        "\n"
      ],
      "metadata": {
        "id": "XmtjqTD7xcc_",
        "colab": {
          "base_uri": "https://localhost:8080/"
        },
        "outputId": "4a0ab4e6-fa32-4b14-b40b-9ab469b6bf6e"
      },
      "execution_count": 6,
      "outputs": [
        {
          "output_type": "stream",
          "name": "stdout",
          "text": [
            "enter the number from 1 to 200 :13\n",
            "print the number is prime\n"
          ]
        }
      ]
    },
    {
      "cell_type": "code",
      "source": [
        "#5. Create an iterator class in Python that generates the Fibonacci sequence up to a specified number of  terms\n",
        "\n",
        "class iterator :\n",
        "  def __init__(self,terms):\n",
        "    self.r1 = terms\n",
        "    self.n1=0\n",
        "    self.n2=1\n",
        "\n",
        "  def febunaci(self):\n",
        "\n",
        "    i = 3\n",
        "    while i != self.r1:\n",
        "      nth =self.n1+self.n2\n",
        "      self.n1=self.n2\n",
        "      self.n2=nth\n",
        "      i+=1\n",
        "\n",
        "    return nth\n",
        "\n",
        "\n",
        "\n",
        "\n",
        "\n",
        "\n",
        "output=iterator(12)\n",
        "output.febunaci()\n",
        "\n",
        "\n",
        "\n",
        "\n"
      ],
      "metadata": {
        "id": "B4XpsQU9xcXw",
        "colab": {
          "base_uri": "https://localhost:8080/"
        },
        "outputId": "4bbe042a-4ad0-493c-9bdd-7c7c680a0fb3"
      },
      "execution_count": 12,
      "outputs": [
        {
          "output_type": "execute_result",
          "data": {
            "text/plain": [
              "55"
            ]
          },
          "metadata": {},
          "execution_count": 12
        }
      ]
    },
    {
      "cell_type": "code",
      "source": [
        "#6.  Write a generator function in Python that yields the powers of 2 up to a given exponent\n",
        "\n",
        "\n",
        "def power_2(expo):\n",
        "   for i in range(0,expo+1):\n",
        "    result = 2**i\n",
        "\n",
        "    yield result\n",
        "\n",
        "\n",
        "power_2(10)\n",
        "p = power_2(10)\n",
        "\n",
        "\n",
        "count =0\n",
        "\n",
        "while count !=11:\n",
        "  print(next(p))\n",
        "  count+=1\n",
        "\n",
        "\n",
        "\n",
        "\n"
      ],
      "metadata": {
        "id": "3LYXBd24xcU8",
        "colab": {
          "base_uri": "https://localhost:8080/"
        },
        "outputId": "16213285-d01b-48b3-ec56-f0dae70fa2e2"
      },
      "execution_count": 18,
      "outputs": [
        {
          "output_type": "stream",
          "name": "stdout",
          "text": [
            "1\n",
            "2\n",
            "4\n",
            "8\n",
            "16\n",
            "32\n",
            "64\n",
            "128\n",
            "256\n",
            "512\n",
            "1024\n"
          ]
        }
      ]
    },
    {
      "cell_type": "code",
      "source": [
        "#7. Implement a generator function that reads a file line by line and yields each line as a string\n",
        "\n",
        "def read_file_line_by_line(file_path):\n",
        "\n",
        "    with open(file_path, 'r', encoding='utf-8') as file:\n",
        "        for line in file:\n",
        "            yield line.strip()\n",
        "\n",
        "\n",
        "file_path = \"example.txt\"\n",
        "\n",
        "for line in read_file_line_by_line(file_path):\n",
        "    print(line)\n"
      ],
      "metadata": {
        "id": "LqcAsIjQxcPJ",
        "colab": {
          "base_uri": "https://localhost:8080/",
          "height": 315
        },
        "outputId": "83fdca81-1876-4830-8789-a3a02bf6fb70"
      },
      "execution_count": 19,
      "outputs": [
        {
          "output_type": "error",
          "ename": "FileNotFoundError",
          "evalue": "[Errno 2] No such file or directory: 'example.txt'",
          "traceback": [
            "\u001b[0;31m---------------------------------------------------------------------------\u001b[0m",
            "\u001b[0;31mFileNotFoundError\u001b[0m                         Traceback (most recent call last)",
            "\u001b[0;32m<ipython-input-19-774a05759c9d>\u001b[0m in \u001b[0;36m<cell line: 0>\u001b[0;34m()\u001b[0m\n\u001b[1;32m     10\u001b[0m \u001b[0mfile_path\u001b[0m \u001b[0;34m=\u001b[0m \u001b[0;34m\"example.txt\"\u001b[0m\u001b[0;34m\u001b[0m\u001b[0;34m\u001b[0m\u001b[0m\n\u001b[1;32m     11\u001b[0m \u001b[0;34m\u001b[0m\u001b[0m\n\u001b[0;32m---> 12\u001b[0;31m \u001b[0;32mfor\u001b[0m \u001b[0mline\u001b[0m \u001b[0;32min\u001b[0m \u001b[0mread_file_line_by_line\u001b[0m\u001b[0;34m(\u001b[0m\u001b[0mfile_path\u001b[0m\u001b[0;34m)\u001b[0m\u001b[0;34m:\u001b[0m\u001b[0;34m\u001b[0m\u001b[0;34m\u001b[0m\u001b[0m\n\u001b[0m\u001b[1;32m     13\u001b[0m     \u001b[0mprint\u001b[0m\u001b[0;34m(\u001b[0m\u001b[0mline\u001b[0m\u001b[0;34m)\u001b[0m\u001b[0;34m\u001b[0m\u001b[0;34m\u001b[0m\u001b[0m\n",
            "\u001b[0;32m<ipython-input-19-774a05759c9d>\u001b[0m in \u001b[0;36mread_file_line_by_line\u001b[0;34m(file_path)\u001b[0m\n\u001b[1;32m      3\u001b[0m \u001b[0;32mdef\u001b[0m \u001b[0mread_file_line_by_line\u001b[0m\u001b[0;34m(\u001b[0m\u001b[0mfile_path\u001b[0m\u001b[0;34m)\u001b[0m\u001b[0;34m:\u001b[0m\u001b[0;34m\u001b[0m\u001b[0;34m\u001b[0m\u001b[0m\n\u001b[1;32m      4\u001b[0m \u001b[0;34m\u001b[0m\u001b[0m\n\u001b[0;32m----> 5\u001b[0;31m     \u001b[0;32mwith\u001b[0m \u001b[0mopen\u001b[0m\u001b[0;34m(\u001b[0m\u001b[0mfile_path\u001b[0m\u001b[0;34m,\u001b[0m \u001b[0;34m'r'\u001b[0m\u001b[0;34m,\u001b[0m \u001b[0mencoding\u001b[0m\u001b[0;34m=\u001b[0m\u001b[0;34m'utf-8'\u001b[0m\u001b[0;34m)\u001b[0m \u001b[0;32mas\u001b[0m \u001b[0mfile\u001b[0m\u001b[0;34m:\u001b[0m\u001b[0;34m\u001b[0m\u001b[0;34m\u001b[0m\u001b[0m\n\u001b[0m\u001b[1;32m      6\u001b[0m         \u001b[0;32mfor\u001b[0m \u001b[0mline\u001b[0m \u001b[0;32min\u001b[0m \u001b[0mfile\u001b[0m\u001b[0;34m:\u001b[0m\u001b[0;34m\u001b[0m\u001b[0;34m\u001b[0m\u001b[0m\n\u001b[1;32m      7\u001b[0m             \u001b[0;32myield\u001b[0m \u001b[0mline\u001b[0m\u001b[0;34m.\u001b[0m\u001b[0mstrip\u001b[0m\u001b[0;34m(\u001b[0m\u001b[0;34m)\u001b[0m\u001b[0;34m\u001b[0m\u001b[0;34m\u001b[0m\u001b[0m\n",
            "\u001b[0;31mFileNotFoundError\u001b[0m: [Errno 2] No such file or directory: 'example.txt'"
          ]
        }
      ]
    },
    {
      "cell_type": "code",
      "source": [
        "#8.  Use a lambda function in Python to sort a list of tuples based on the second element of each tuple.\n",
        "\n",
        "tuple_list = [('apple', 5), ('banana', 2), ('cherry', 8), ('date', 1)]\n",
        "\n",
        "\n",
        "sorted_list = sorted(tuple_list, key=lambda x: x[1])\n",
        "\n",
        "print(sorted_list)\n",
        "\n",
        "\n",
        "\n",
        "\n",
        "\n"
      ],
      "metadata": {
        "id": "ryn2BF9bxcIh",
        "colab": {
          "base_uri": "https://localhost:8080/"
        },
        "outputId": "a99d3ac4-b087-42fa-bbf7-ffe6a69772c3"
      },
      "execution_count": 24,
      "outputs": [
        {
          "output_type": "stream",
          "name": "stdout",
          "text": [
            "[('date', 1), ('banana', 2), ('apple', 5), ('cherry', 8)]\n"
          ]
        }
      ]
    },
    {
      "cell_type": "code",
      "source": [
        "#9 Write a Python program that uses `map()` to convert a list of temperatures from Celsius to Fahrenheit.\n",
        "\n",
        "temp = [22,34,56,78]\n",
        "\n",
        "list(map(lambda x :(x*9/5)+32 , temp ))"
      ],
      "metadata": {
        "colab": {
          "base_uri": "https://localhost:8080/"
        },
        "id": "QkNtewAP51OQ",
        "outputId": "620ef4f2-2af9-4390-8f2b-1bc73a1934cc"
      },
      "execution_count": 25,
      "outputs": [
        {
          "output_type": "execute_result",
          "data": {
            "text/plain": [
              "[71.6, 93.2, 132.8, 172.4]"
            ]
          },
          "metadata": {},
          "execution_count": 25
        }
      ]
    },
    {
      "cell_type": "code",
      "source": [
        "#10 . Create a Python program that uses `filter()` to remove all the vowels from a given string\n",
        "\n",
        "o1= \"elephant\"\n",
        "\n",
        "result = filter(lambda x: x not in (\"a\",\"e\",\"i\",\"o\",\"u\")  ,o1)\n",
        "print(list(result))"
      ],
      "metadata": {
        "colab": {
          "base_uri": "https://localhost:8080/"
        },
        "id": "FcSHzlYx51L_",
        "outputId": "efc72064-8bae-4987-8b94-ac9a4a880f3a"
      },
      "execution_count": 31,
      "outputs": [
        {
          "output_type": "stream",
          "name": "stdout",
          "text": [
            "['l', 'p', 'h', 'n', 't']\n"
          ]
        }
      ]
    },
    {
      "cell_type": "code",
      "source": [
        "#11.\n",
        "'''\n",
        "\n",
        "Imagine an accounting routine used in a book shop. It works on a list with sublists, which look like this:\n",
        " Write a Python program, which returns a list with 2-tuples. Each tuple consists of the order number and the\n",
        "product of the price per item and the quantity. The product should be increased by 10,- € if the value of the\n",
        "order is smaller than 100,00 €.\n",
        " Write a Python program using lambda and map.\n",
        " '''\n",
        "\n",
        "def process_orders(orders):\n",
        "\n",
        "\n",
        "\n",
        "    def calculate_order_value(order):\n",
        "        order_number, price, quantity = order\n",
        "        total_value = price * quantity\n",
        "        if total_value < 100:\n",
        "            total_value += 10\n",
        "        return order_number, total_value\n",
        "\n",
        "    return list(map(calculate_order_value, orders))\n",
        "\n",
        "orders = [\n",
        "    [1001, 20, 3],\n",
        "    [1002, 50, 2],\n",
        "    [1003, 10, 5],\n",
        "    [1004, 30, 4],\n",
        "]\n",
        "\n",
        "processed_orders = process_orders(orders)\n",
        "print(processed_orders)\n",
        "\n",
        "\n"
      ],
      "metadata": {
        "colab": {
          "base_uri": "https://localhost:8080/"
        },
        "id": "3zzVAwAe51H3",
        "outputId": "850bd6fa-e8f3-465c-da4b-aaf0c86ee4c7"
      },
      "execution_count": 32,
      "outputs": [
        {
          "output_type": "stream",
          "name": "stdout",
          "text": [
            "[(1001, 70), (1002, 100), (1003, 60), (1004, 120)]\n"
          ]
        }
      ]
    },
    {
      "cell_type": "code",
      "source": [],
      "metadata": {
        "id": "SBXtAEsq51B3"
      },
      "execution_count": null,
      "outputs": []
    }
  ]
}